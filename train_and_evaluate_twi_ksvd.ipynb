{
 "cells": [
  {
   "cell_type": "markdown",
   "metadata": {},
   "source": [
    "# TWI-kSVD algorithm\n",
    "\n",
    "In this notebook, we aim to display the results of the TWI-kSVD algorithm on two datasets, BME and DIGITS.\n",
    "\n",
    "### Imports"
   ]
  },
  {
   "cell_type": "code",
   "execution_count": 1,
   "metadata": {},
   "outputs": [],
   "source": [
    "import numpy as np\n",
    "import matplotlib.pyplot as plt\n",
    "\n",
    "from source_code import utils\n",
    "from source_code.models_twi import TWI_kSVD, TWI_kSVD_2D\n",
    "\n",
    "sparsity_levels = [2, 5, 10]"
   ]
  },
  {
   "cell_type": "markdown",
   "metadata": {},
   "source": [
    "### Utils"
   ]
  },
  {
   "cell_type": "code",
   "execution_count": 2,
   "metadata": {},
   "outputs": [],
   "source": [
    "def convert_to_list_dataset(matrix):\n",
    "    return [matrix[:, i] for i in range(matrix.shape[1])]"
   ]
  },
  {
   "cell_type": "markdown",
   "metadata": {},
   "source": [
    "## BME dataset"
   ]
  },
  {
   "cell_type": "code",
   "execution_count": 3,
   "metadata": {},
   "outputs": [],
   "source": [
    "dataset_name = 'BME'"
   ]
  },
  {
   "cell_type": "markdown",
   "metadata": {},
   "source": [
    "### Training and evaluating TWI-kSVD model"
   ]
  },
  {
   "cell_type": "code",
   "execution_count": 4,
   "metadata": {},
   "outputs": [
    {
     "name": "stdout",
     "output_type": "stream",
     "text": [
      "Training TWI-kSVD model on BME dataset with sparsity=2...\n",
      "  Model 'TWI_kSVD_BME_sparsity_2' has been successfully trained.\n",
      "\n",
      "Model TWI_kSVD_BME_sparsity_2 has been successfully saved.\n",
      "\n",
      "Testing TWI-kSVD model on BME dataset (test set) with sparsity=2...\n",
      "  Test classification error: 0.58\n",
      "  Our test classification error: 0.53\n",
      "  Test L2 error: 0.17313\n",
      "\n",
      "\n",
      "Training TWI-kSVD model on BME dataset with sparsity=5...\n",
      "  Model 'TWI_kSVD_BME_sparsity_5' has been successfully trained.\n",
      "\n",
      "Model TWI_kSVD_BME_sparsity_5 has been successfully saved.\n",
      "\n",
      "Testing TWI-kSVD model on BME dataset (test set) with sparsity=5...\n",
      "  Test classification error: 0.53\n",
      "  Our test classification error: 0.58\n",
      "  Test L2 error: 0.12301\n",
      "\n",
      "\n",
      "Training TWI-kSVD model on BME dataset with sparsity=10...\n",
      "  Model 'TWI_kSVD_BME_sparsity_10' has been successfully trained.\n",
      "\n",
      "Model TWI_kSVD_BME_sparsity_10 has been successfully saved.\n",
      "\n",
      "Testing TWI-kSVD model on BME dataset (test set) with sparsity=10...\n",
      "  Test classification error: 0.47\n",
      "  Our test classification error: 0.62\n",
      "  Test L2 error: 0.08559\n",
      "\n",
      "\n"
     ]
    }
   ],
   "source": [
    "train_matrix, train_labels = utils.get_dataset(dataset_name, 'train')\n",
    "train_list = convert_to_list_dataset(train_matrix)\n",
    "\n",
    "test_matrix, test_labels = utils.get_dataset(dataset_name, 'test')\n",
    "test_list = convert_to_list_dataset(test_matrix)\n",
    "\n",
    "for sparsity in sparsity_levels:\n",
    "    print(f'Training TWI-kSVD model on {dataset_name} dataset with sparsity={sparsity}...')\n",
    "    model_name = f'TWI_kSVD_{dataset_name}_sparsity_{sparsity}'\n",
    "    model = TWI_kSVD(n_classes=3)\n",
    "    model.fit(train_list, train_labels, sparsity=sparsity, dataset_name=dataset_name)\n",
    "    print(f\"  Model '{model_name}' has been successfully trained.\\n\")\n",
    "\n",
    "    utils.save_model(model, model_name)\n",
    "    print(f'Model {model_name} has been successfully saved.\\n')\n",
    "\n",
    "    model = utils.load_model(model_name)\n",
    "\n",
    "    # print(f'Testing TWI-kSVD model on {dataset_name} dataset (train set) with sparsity={sparsity}...')\n",
    "    # train_classif_error, our_train_classif_error, train_l2_error = utils.get_errors_1d_list(model, train_list, train_labels, sparsity=sparsity)\n",
    "    # print(f'  Train classification error: {train_classif_error:.2f}')\n",
    "    # print(f'  Our train classification error: {our_train_classif_error:.2f}')\n",
    "    # print(f'  Train L2 error: {train_l2_error:.5f}\\n')\n",
    "\n",
    "    print(f'Testing TWI-kSVD model on {dataset_name} dataset (test set) with sparsity={sparsity}...')\n",
    "    test_classif_error, our_test_classif_error, test_l2_error = utils.get_errors_1d_list(model, test_list, test_labels, sparsity=sparsity)\n",
    "    print(f'  Test classification error: {test_classif_error:.2f}')\n",
    "    print(f'  Our test classification error: {our_test_classif_error:.2f}')\n",
    "    print(f'  Test L2 error: {test_l2_error:.5f}\\n\\n')"
   ]
  },
  {
   "cell_type": "markdown",
   "metadata": {},
   "source": [
    "## DIGITS dataset"
   ]
  },
  {
   "cell_type": "code",
   "execution_count": 5,
   "metadata": {},
   "outputs": [],
   "source": [
    "dataset_name = 'DIGITS'"
   ]
  },
  {
   "cell_type": "markdown",
   "metadata": {},
   "source": [
    "### Training and evaluating TWI-kSVD model"
   ]
  },
  {
   "cell_type": "code",
   "execution_count": 6,
   "metadata": {},
   "outputs": [
    {
     "name": "stdout",
     "output_type": "stream",
     "text": [
      "Training TWI-kSVD model on DIGITS dataset with sparsity=2...\n",
      "  Model 'TWI_kSVD_DIGITS_sparsity_2' has been successfully trained.\n",
      "\n",
      "Model TWI_kSVD_DIGITS_sparsity_2 has been successfully saved.\n",
      "\n",
      "\n",
      "Testing TWI-kSVD model on DIGITS dataset (test set) with sparsity=2...\n",
      "  Test classification error: 0.73\n",
      "  Our test classification error: 0.81\n",
      "  Test L2 error: 0.53786\n",
      "\n",
      "\n",
      "Training TWI-kSVD model on DIGITS dataset with sparsity=5...\n",
      "  Model 'TWI_kSVD_DIGITS_sparsity_5' has been successfully trained.\n",
      "\n",
      "Model TWI_kSVD_DIGITS_sparsity_5 has been successfully saved.\n",
      "\n",
      "\n",
      "Testing TWI-kSVD model on DIGITS dataset (test set) with sparsity=5...\n",
      "  Test classification error: 0.66\n",
      "  Our test classification error: 0.76\n",
      "  Test L2 error: 0.32883\n",
      "\n",
      "\n",
      "Training TWI-kSVD model on DIGITS dataset with sparsity=10...\n",
      "  Model 'TWI_kSVD_DIGITS_sparsity_10' has been successfully trained.\n",
      "\n",
      "Model TWI_kSVD_DIGITS_sparsity_10 has been successfully saved.\n",
      "\n",
      "\n",
      "Testing TWI-kSVD model on DIGITS dataset (test set) with sparsity=10...\n",
      "  Test classification error: 0.92\n",
      "  Our test classification error: 0.88\n",
      "  Test L2 error: 0.21764\n",
      "\n",
      "\n"
     ]
    }
   ],
   "source": [
    "X_train, Y_train, _, _, train_labels = utils.get_dataset(dataset_name, 'train')\n",
    "X_test, Y_test, _, _, test_labels = utils.get_dataset('DIGITS', 'test')\n",
    "\n",
    "for sparsity in sparsity_levels:\n",
    "    print(f'Training TWI-kSVD model on {dataset_name} dataset with sparsity={sparsity}...')\n",
    "    model_name = f'TWI_kSVD_{dataset_name}_sparsity_{sparsity}'\n",
    "    model_2D = TWI_kSVD_2D(n_classes=10)\n",
    "    model_2D.fit(X_train, Y_train, train_labels, sparsity=sparsity, dataset_name=dataset_name)\n",
    "    print(f\"  Model '{model_name}' has been successfully trained.\\n\")\n",
    "\n",
    "    utils.save_2d_model(model_2D, model_name)\n",
    "    print(f'Model {model_name} has been successfully saved.\\n\\n')\n",
    "\n",
    "    model_2D = utils.load_2d_model(model_name)\n",
    "    \n",
    "    # print(f'Testing TWI-kSVD model on {dataset_name} dataset (train set) with sparsity={sparsity}...')\n",
    "    # train_classif_error, my_train_classif_error, train_l2_error = utils.get_errors_2d_list(model_2D, X_train, Y_train, train_labels, sparsity=sparsity)\n",
    "    # print(f'  Train classification error: {train_classif_error:.2f}')\n",
    "    # print(f'  Our train classification error: {my_train_classif_error:.2f}')\n",
    "    # print(f'  Train L2 error: {train_l2_error:.5f}\\n')\n",
    "\n",
    "    print(f'Testing TWI-kSVD model on {dataset_name} dataset (test set) with sparsity={sparsity}...')\n",
    "    test_classif_error, our_test_classif_error, test_l2_error = utils.get_errors_2d_list(model_2D, X_test, Y_test, test_labels, sparsity=sparsity)\n",
    "    print(f'  Test classification error: {test_classif_error:.2f}')\n",
    "    print(f'  Our test classification error: {our_test_classif_error:.2f}')\n",
    "    print(f'  Test L2 error: {test_l2_error:.5f}\\n\\n')"
   ]
  }
 ],
 "metadata": {
  "kernelspec": {
   "display_name": "Python 3",
   "language": "python",
   "name": "python3"
  },
  "language_info": {
   "codemirror_mode": {
    "name": "ipython",
    "version": 3
   },
   "file_extension": ".py",
   "mimetype": "text/x-python",
   "name": "python",
   "nbconvert_exporter": "python",
   "pygments_lexer": "ipython3",
   "version": "3.9.12"
  }
 },
 "nbformat": 4,
 "nbformat_minor": 2
}
