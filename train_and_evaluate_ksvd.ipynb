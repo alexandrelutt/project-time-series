{
 "cells": [
  {
   "cell_type": "markdown",
   "metadata": {},
   "source": [
    "# kSVD algorithm\n",
    "\n",
    "In this notebook, we aim to display the results of the kSVD algorithm on two datasets, BME and DIGITS.\n",
    "\n",
    "### Imports"
   ]
  },
  {
   "cell_type": "code",
   "execution_count": 1,
   "metadata": {},
   "outputs": [],
   "source": [
    "import numpy as np\n",
    "import matplotlib.pyplot as plt\n",
    "\n",
    "from source_code import utils\n",
    "from source_code.models_ksvd import kSVD, kSVD_2D\n",
    "\n",
    "sparsity_levels = [1, 2, 3, 4, 5, 7, 10]"
   ]
  },
  {
   "cell_type": "markdown",
   "metadata": {},
   "source": [
    "### Utils"
   ]
  },
  {
   "cell_type": "code",
   "execution_count": 2,
   "metadata": {},
   "outputs": [],
   "source": [
    "def save_model(model, model_name):\n",
    "    if 'kSVD' in model_name:\n",
    "        D_list = model.D_list.copy()\n",
    "        np.savez_compressed(f'models/{model_name}.npz', D_list=D_list)\n",
    "    else:\n",
    "        raise NotImplementedError\n",
    "\n",
    "def save_2d_model(model, model_name):\n",
    "    if 'kSVD' in model_name:\n",
    "        D_list_X = model.D_list_X.copy()\n",
    "        D_list_Y = model.D_list_Y.copy()\n",
    "        np.savez_compressed(f'models/{model_name}.npz', D_list_X=D_list_X, D_list_Y=D_list_Y)\n",
    "\n",
    "def load_model(model_name):\n",
    "    D_list = list(np.load(f'models/{model_name}.npz')['D_list'])\n",
    "    if 'kSVD' in model_name:\n",
    "        new_model = kSVD(n_classes=3, init_dict=D_list)\n",
    "    else:\n",
    "        raise NotImplementedError\n",
    "    return new_model\n",
    "\n",
    "def load_2d_model(model_name):\n",
    "    D_list_X = list(np.load(f'models/{model_name}.npz')['D_list_X'])\n",
    "    D_list_Y = list(np.load(f'models/{model_name}.npz')['D_list_Y'])\n",
    "    D_list = [D_list_X, D_list_Y]\n",
    "    if 'kSVD' in model_name:\n",
    "        new_model = kSVD_2D(n_classes=10, init_dicts=D_list)\n",
    "    else:\n",
    "        raise NotImplementedError\n",
    "    return new_model"
   ]
  },
  {
   "cell_type": "markdown",
   "metadata": {},
   "source": [
    "## BME dataset"
   ]
  },
  {
   "cell_type": "code",
   "execution_count": 3,
   "metadata": {},
   "outputs": [],
   "source": [
    "dataset_name = 'BME'"
   ]
  },
  {
   "cell_type": "markdown",
   "metadata": {},
   "source": [
    "### Training kSVD model"
   ]
  },
  {
   "cell_type": "code",
   "execution_count": 4,
   "metadata": {},
   "outputs": [
    {
     "name": "stdout",
     "output_type": "stream",
     "text": [
      "Training kSVD model on BME dataset with sparsity=1...\n",
      "  Train classification error: 0.33\n",
      "  Train L2 error: 1.35\n",
      "\n",
      "Model 'kSVD_BME_sparsity_1' has been successfully saved.\n",
      "\n",
      "Training kSVD model on BME dataset with sparsity=2...\n",
      "  Train classification error: 0.20\n",
      "  Train L2 error: 1.61\n",
      "\n",
      "Model 'kSVD_BME_sparsity_2' has been successfully saved.\n",
      "\n",
      "Training kSVD model on BME dataset with sparsity=3...\n",
      "  Train classification error: 0.17\n",
      "  Train L2 error: 0.87\n",
      "\n",
      "Model 'kSVD_BME_sparsity_3' has been successfully saved.\n",
      "\n",
      "Training kSVD model on BME dataset with sparsity=4...\n",
      "  Train classification error: 0.00\n",
      "  Train L2 error: 0.36\n",
      "\n",
      "Model 'kSVD_BME_sparsity_4' has been successfully saved.\n",
      "\n",
      "Training kSVD model on BME dataset with sparsity=5...\n",
      "  Train classification error: 0.10\n",
      "  Train L2 error: 0.68\n",
      "\n",
      "Model 'kSVD_BME_sparsity_5' has been successfully saved.\n",
      "\n",
      "Training kSVD model on BME dataset with sparsity=7...\n",
      "  Train classification error: 0.23\n",
      "  Train L2 error: 0.54\n",
      "\n",
      "Model 'kSVD_BME_sparsity_7' has been successfully saved.\n",
      "\n",
      "Training kSVD model on BME dataset with sparsity=10...\n",
      "  Train classification error: 0.10\n",
      "  Train L2 error: 0.69\n",
      "\n",
      "Model 'kSVD_BME_sparsity_10' has been successfully saved.\n",
      "\n"
     ]
    }
   ],
   "source": [
    "train_matrix, train_labels = utils.get_dataset(dataset_name, 'train')\n",
    "\n",
    "for sparsity in sparsity_levels:\n",
    "    print(f'Training kSVD model on {dataset_name} dataset with sparsity={sparsity}...')\n",
    "    model_name = f'kSVD_{dataset_name}_sparsity_{sparsity}'\n",
    "    model = kSVD(n_classes=3).fit(train_matrix, train_labels, sparsity=sparsity)\n",
    "\n",
    "    train_classif_error, train_l2_error = utils.get_errors_1d(model, train_matrix, train_labels)\n",
    "    print(f'  Train classification error: {train_classif_error:.2f}')\n",
    "    print(f'  Train L2 error: {train_l2_error:.2f}\\n')\n",
    "\n",
    "    save_model(model, model_name)\n",
    "    print(f\"Model '{model_name}' has been successfully saved.\\n\")"
   ]
  },
  {
   "cell_type": "markdown",
   "metadata": {},
   "source": [
    "### Testing kSVD model"
   ]
  },
  {
   "cell_type": "code",
   "execution_count": 5,
   "metadata": {},
   "outputs": [
    {
     "name": "stdout",
     "output_type": "stream",
     "text": [
      "Testing kSVD model on BME dataset with sparsity=1...\n",
      "  Test classification error: 0.39\n",
      "  Test L2 error: 1.68\n",
      "\n",
      "Testing kSVD model on BME dataset with sparsity=2...\n",
      "  Test classification error: 0.32\n",
      "  Test L2 error: 1.83\n",
      "\n",
      "Testing kSVD model on BME dataset with sparsity=3...\n",
      "  Test classification error: 0.25\n",
      "  Test L2 error: 1.22\n",
      "\n",
      "Testing kSVD model on BME dataset with sparsity=4...\n",
      "  Test classification error: 0.05\n",
      "  Test L2 error: 0.94\n",
      "\n",
      "Testing kSVD model on BME dataset with sparsity=5...\n",
      "  Test classification error: 0.17\n",
      "  Test L2 error: 1.14\n",
      "\n",
      "Testing kSVD model on BME dataset with sparsity=7...\n",
      "  Test classification error: 0.30\n",
      "  Test L2 error: 1.08\n",
      "\n",
      "Testing kSVD model on BME dataset with sparsity=10...\n",
      "  Test classification error: 0.24\n",
      "  Test L2 error: 1.18\n",
      "\n"
     ]
    }
   ],
   "source": [
    "test_matrix, test_labels = utils.get_dataset(dataset_name, 'test')\n",
    "\n",
    "for sparsity in sparsity_levels:\n",
    "    print(f'Testing kSVD model on {dataset_name} dataset with sparsity={sparsity}...')\n",
    "    model_name = f'kSVD_{dataset_name}_sparsity_{sparsity}'\n",
    "    model = load_model(model_name)\n",
    "\n",
    "    test_classif_error, test_l2_error = utils.get_errors_1d(model, test_matrix, test_labels)\n",
    "    print(f'  Test classification error: {test_classif_error:.2f}')\n",
    "    print(f'  Test L2 error: {test_l2_error:.2f}\\n')"
   ]
  },
  {
   "cell_type": "markdown",
   "metadata": {},
   "source": [
    "## DIGITS dataset"
   ]
  },
  {
   "cell_type": "code",
   "execution_count": 6,
   "metadata": {},
   "outputs": [],
   "source": [
    "dataset_name = 'DIGITS'"
   ]
  },
  {
   "cell_type": "markdown",
   "metadata": {},
   "source": [
    "### Training kSVD model"
   ]
  },
  {
   "cell_type": "code",
   "execution_count": 7,
   "metadata": {},
   "outputs": [
    {
     "name": "stdout",
     "output_type": "stream",
     "text": [
      "Training kSVD model on DIGITS dataset with sparsity=1...\n",
      "  Train classification error: 0.40\n",
      "  Train L2 error: 1.11\n",
      "\n",
      "Model 'kSVD_DIGITS_sparsity_1' has been successfully saved.\n",
      "\n",
      "Training kSVD model on DIGITS dataset with sparsity=2...\n",
      "  Train classification error: 0.29\n",
      "  Train L2 error: 0.66\n",
      "\n",
      "Model 'kSVD_DIGITS_sparsity_2' has been successfully saved.\n",
      "\n",
      "Training kSVD model on DIGITS dataset with sparsity=3...\n",
      "  Train classification error: 0.13\n",
      "  Train L2 error: 0.38\n",
      "\n",
      "Model 'kSVD_DIGITS_sparsity_3' has been successfully saved.\n",
      "\n",
      "Training kSVD model on DIGITS dataset with sparsity=4...\n",
      "  Train classification error: 0.12\n",
      "  Train L2 error: 0.31\n",
      "\n",
      "Model 'kSVD_DIGITS_sparsity_4' has been successfully saved.\n",
      "\n",
      "Training kSVD model on DIGITS dataset with sparsity=5...\n",
      "  Train classification error: 0.17\n",
      "  Train L2 error: 0.35\n",
      "\n",
      "Model 'kSVD_DIGITS_sparsity_5' has been successfully saved.\n",
      "\n",
      "Training kSVD model on DIGITS dataset with sparsity=7...\n",
      "  Train classification error: 0.17\n",
      "  Train L2 error: 0.32\n",
      "\n",
      "Model 'kSVD_DIGITS_sparsity_7' has been successfully saved.\n",
      "\n",
      "Training kSVD model on DIGITS dataset with sparsity=10...\n",
      "  Train classification error: 0.39\n",
      "  Train L2 error: 0.58\n",
      "\n",
      "Model 'kSVD_DIGITS_sparsity_10' has been successfully saved.\n",
      "\n"
     ]
    }
   ],
   "source": [
    "X_train, Y_train, X_train_matrix, Y_train_matrix, train_labels = utils.get_dataset(dataset_name, 'train')\n",
    "\n",
    "for sparsity in sparsity_levels:\n",
    "    print(f'Training kSVD model on {dataset_name} dataset with sparsity={sparsity}...')\n",
    "    model_name = f'kSVD_{dataset_name}_sparsity_{sparsity}'\n",
    "    model_2D = kSVD_2D(n_classes=10).fit(X_train_matrix, Y_train_matrix, train_labels, sparsity=sparsity)\n",
    "\n",
    "    train_classif_error, train_l2_error = utils.get_errors_2d_array(model_2D, X_train_matrix, Y_train_matrix, X_train, Y_train, train_labels)\n",
    "    print(f'  Train classification error: {train_classif_error:.2f}')\n",
    "    print(f'  Train L2 error: {train_l2_error:.2f}\\n')\n",
    "\n",
    "    save_2d_model(model_2D, model_name)\n",
    "    print(f\"Model '{model_name}' has been successfully saved.\\n\")"
   ]
  },
  {
   "cell_type": "markdown",
   "metadata": {},
   "source": [
    "### Testing kSVD model"
   ]
  },
  {
   "cell_type": "code",
   "execution_count": 8,
   "metadata": {},
   "outputs": [
    {
     "name": "stdout",
     "output_type": "stream",
     "text": [
      "Testing kSVD model on DIGITS dataset with sparsity=1...\n",
      "  Test classification error: 0.60\n",
      "  Test L2 error: 1.13\n",
      "\n",
      "Testing kSVD model on DIGITS dataset with sparsity=2...\n",
      "  Test classification error: 0.59\n",
      "  Test L2 error: 0.76\n",
      "\n",
      "Testing kSVD model on DIGITS dataset with sparsity=3...\n",
      "  Test classification error: 0.48\n",
      "  Test L2 error: 0.48\n",
      "\n",
      "Testing kSVD model on DIGITS dataset with sparsity=4...\n",
      "  Test classification error: 0.49\n",
      "  Test L2 error: 0.42\n",
      "\n",
      "Testing kSVD model on DIGITS dataset with sparsity=5...\n",
      "  Test classification error: 0.59\n",
      "  Test L2 error: 0.46\n",
      "\n",
      "Testing kSVD model on DIGITS dataset with sparsity=7...\n",
      "  Test classification error: 0.55\n",
      "  Test L2 error: 0.44\n",
      "\n",
      "Testing kSVD model on DIGITS dataset with sparsity=10...\n",
      "  Test classification error: 0.55\n",
      "  Test L2 error: 0.66\n",
      "\n"
     ]
    }
   ],
   "source": [
    "X_test, Y_test, X_test_matrix, Y_test_matrix, test_labels = utils.get_dataset('DIGITS', 'test')\n",
    "\n",
    "for sparsity in sparsity_levels:\n",
    "    print(f'Testing kSVD model on {dataset_name} dataset with sparsity={sparsity}...')\n",
    "    model_name = f'kSVD_{dataset_name}_sparsity_{sparsity}'\n",
    "    model_2D = load_2d_model(model_name)\n",
    "\n",
    "    test_classif_error, test_l2_error = utils.get_errors_2d_array(model_2D, X_test_matrix, Y_test_matrix, X_test, Y_test, test_labels)\n",
    "    print(f'  Test classification error: {test_classif_error:.2f}')\n",
    "    print(f'  Test L2 error: {test_l2_error:.2f}\\n')"
   ]
  }
 ],
 "metadata": {
  "kernelspec": {
   "display_name": "Python 3",
   "language": "python",
   "name": "python3"
  },
  "language_info": {
   "codemirror_mode": {
    "name": "ipython",
    "version": 3
   },
   "file_extension": ".py",
   "mimetype": "text/x-python",
   "name": "python",
   "nbconvert_exporter": "python",
   "pygments_lexer": "ipython3",
   "version": "3.9.12"
  }
 },
 "nbformat": 4,
 "nbformat_minor": 2
}
